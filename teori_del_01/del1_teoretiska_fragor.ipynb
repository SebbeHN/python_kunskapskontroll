{
 "cells": [
  {
   "cell_type": "markdown",
   "id": "89492cf5",
   "metadata": {},
   "source": [
    "# 📚 Del 1: Teoretiska Frågor och Python-Övningar"
   ]
  },
  {
   "cell_type": "markdown",
   "id": "1b67caed",
   "metadata": {},
   "source": [
    "## 1. Vad är skillnaden på en tuple och en lista i Python? Är den ena datatypen bättre än den andra?"
   ]
  },
  {
   "cell_type": "markdown",
   "id": "e7b385f9",
   "metadata": {},
   "source": [
    "En lista Muterbar och kan därmed ändras till skillnad från en tuple som är Immutabel. Vill du ändra innehållet så är en lista bättre än en tuple som inte går att ändra. Men vill du att innehållet ska vara oföränderligt så är en tuple att föredra. "
   ]
  },
  {
   "cell_type": "markdown",
   "id": "de3b0917",
   "metadata": {},
   "source": [
    "## 2. Vad är en funktion för något? Varför kan funktioner vara användbara?"
   ]
  },
  {
   "cell_type": "markdown",
   "id": "2ab4eddf",
   "metadata": {},
   "source": [
    "En funktion är ett verktyg inom alla programmeringsspråk. Det ger oss möjlighet att skriva kod som kan återanvändas. En funktion kan ta emot ett argument och retunera ett värde. Man definerar även funktioner utifrån vad funktioner gör, vilket gör att det leder till renare och mer läsbar kod. Funktioner är användbara för att få bättre struktur på koden, kunna anvnda om funktionerna fler gånger i kod och därmed slippa skriva om kodstycke om och om igen. Det underlättar i felsökning i kod.  \n",
    "\n"
   ]
  },
  {
   "cell_type": "markdown",
   "id": "6a7b2969",
   "metadata": {},
   "source": [
    "## 3. Förklara vad följande begrepp, kopplat till klasser, betyder:\n",
    "- a) Instans\n",
    "- b) Attribut\n",
    "- c) Metod"
   ]
  },
  {
   "cell_type": "markdown",
   "id": "d64812a5",
   "metadata": {},
   "source": [
    "A : Om man skulle sätta det i ett exempel så om vi hade skapat en (class Cykel) så skulle jag skapat en instans som skulle vara min_cykel = Cykel() vilket är instansen i klassen Cykel\n",
    "\n",
    "B : Ett attribut är data som är kopplad till objektet(cykeln) t.ex vilken färg, märke, årsmodell\n",
    "\n",
    "C : En metod är en funktion som finns i en class. T.ex vad cykeln kan göra, typ ringa i ringklockan, bromsa  & växla. \n",
    "\n",
    "Allt är grunden för OOP i Python."
   ]
  },
  {
   "cell_type": "markdown",
   "id": "496dda2c",
   "metadata": {},
   "source": [
    "## 4. Vad är Streamlit för något?"
   ]
  },
  {
   "cell_type": "markdown",
   "id": "111a44fa",
   "metadata": {},
   "source": [
    "Streamlit är ett Python-ramverk för att enkelt kunna bygga interaktiva webbappar. Funkar bra för dataanalyser och visulisering av data. "
   ]
  },
  {
   "cell_type": "markdown",
   "id": "d4181283",
   "metadata": {},
   "source": [
    "## 5. Python-Övningar"
   ]
  },
  {
   "cell_type": "markdown",
   "id": "a3304e50",
   "metadata": {},
   "source": [
    "### a) Skapa en klass som heter `BankAccount` med följande:\n",
    "- Attribut: `account_holder`, `balance`\n",
    "- Metoder: `deposit()`, `withdraw()`\n",
    "- Om kontoinnehavaren försöker ta ut mer pengar än saldot, skriv ut 'Too low balance'."
   ]
  },
  {
   "cell_type": "code",
   "execution_count": 1,
   "id": "2dcd794f",
   "metadata": {},
   "outputs": [],
   "source": [
    "class BankAccount:\n",
    "    def __init__(self, account_holder, balance=0):\n",
    "        self.account_holder = account_holder\n",
    "        self.balance = balance\n",
    "    \n",
    "    def deposit(self, amount):\n",
    "        if amount > 0:\n",
    "            self.balance += amount\n",
    "            print(f\"Deposited {amount}. New balance: {self.balance}\")\n",
    "        else:\n",
    "            print(\"Deposit amount must be positive\")\n",
    "\n",
    "    def withdraw(self, amount):\n",
    "        if amount <= self.balance:\n",
    "            self.balance -= amount\n",
    "            print(f\"Withdrew {amount}. New balance: {self.balance}\")\n",
    "        else:\n",
    "            print(\"Insufficient funds for withdrawal\")\n",
    "\n",
    "    def __str__(self): \n",
    "        return f\"Account Holder: {self.account_holder}, Balance: {self.balance}\""
   ]
  },
  {
   "cell_type": "markdown",
   "id": "8e9f0a9b",
   "metadata": {},
   "source": [
    "### b) Skapa en instans av klassen och testa att den fungerar."
   ]
  },
  {
   "cell_type": "code",
   "execution_count": 3,
   "id": "b91df547",
   "metadata": {},
   "outputs": [
    {
     "name": "stdout",
     "output_type": "stream",
     "text": [
      "Account Holder: Sebastian Holmberg, Balance: 1000\n",
      "Deposited 500. New balance: 1500\n",
      "Withdrew 300. New balance: 1200\n",
      "Deposit amount must be positive\n",
      "Insufficient funds for withdrawal\n"
     ]
    }
   ],
   "source": [
    "account = BankAccount(\"Sebastian Holmberg\", 1000)\n",
    "\n",
    "print(account)\n",
    "\n",
    "account.deposit(500)\n",
    "\n",
    "account.withdraw(300)\n",
    "\n",
    "account.deposit(-100)\n",
    "\n",
    "account.withdraw(2000)\n",
    "\n"
   ]
  },
  {
   "cell_type": "markdown",
   "id": "f43384b9",
   "metadata": {},
   "source": [
    "### 6. Skapa en funktion som beräknar antalet vokaler i en sträng."
   ]
  },
  {
   "cell_type": "code",
   "execution_count": 6,
   "id": "cf77d5d6",
   "metadata": {},
   "outputs": [
    {
     "name": "stdout",
     "output_type": "stream",
     "text": [
      "\"Hej, hur mår du?\" har 4 vokaler\n",
      "\"PROGRAMMERING\" har 4 vokaler\n",
      "\"Åäö\" har 3 vokaler\n",
      "\"Python är kul!\" har 4 vokaler\n",
      "\"ABCDEFGHIJKLMNOPQRSTUVWXYZÅÄÖ\" har 9 vokaler\n"
     ]
    }
   ],
   "source": [
    "def count_vowels(text):\n",
    "    \"\"\"\n",
    "    Beräknar antaler voakler i en sträng.\n",
    "    Vokaler är A, E, I, O, U, Å, Ä och Ö (både stora och små bokstäver).\n",
    "    \n",
    "    Args:\n",
    "        text (str): Texten där vokaler ska räknas.\n",
    "\n",
    "    Returns:\n",
    "        int: Antalet vokaler i texten.\n",
    "    \n",
    "    \"\"\"\n",
    "    vowels = \"aeiouyåäöAEIOUYÅÄÖ\"\n",
    "\n",
    "    count = 0\n",
    "    for char in text:\n",
    "        if char in vowels:\n",
    "            count += 1\n",
    "\n",
    "    return count\n",
    "\n",
    "# Testa funktionen\n",
    "test_strings = [\n",
    "    \"Hej, hur mår du?\" ,\n",
    "    \"PROGRAMMERING\" ,\n",
    "    \"Åäö\",\n",
    "    \"Python är kul!\",\n",
    "    \"ABCDEFGHIJKLMNOPQRSTUVWXYZÅÄÖ\"\n",
    "]\n",
    "\n",
    "for s in test_strings:\n",
    "    print(f'\"{s}\" har {count_vowels(s)} vokaler')\n"
   ]
  },
  {
   "cell_type": "markdown",
   "id": "25e9d9d4",
   "metadata": {},
   "source": [
    "### 7. Skapa en funktion som tar två listor som argument och returnerar de gemensamma elementen i en ny lista."
   ]
  },
  {
   "cell_type": "code",
   "execution_count": null,
   "id": "86d6cbff",
   "metadata": {},
   "outputs": [
    {
     "name": "stdout",
     "output_type": "stream",
     "text": [
      "[4, 5]\n"
     ]
    }
   ],
   "source": [
    "def common_elements_set(list1, list2):\n",
    "    \"\"\"\n",
    "    Returnerar gemensamma element från två listor med hjälp av sets.\n",
    "    \n",
    "    Args:\n",
    "        list1: Första listan\n",
    "        list2: Andra listan\n",
    "        \n",
    "    Returns:\n",
    "        list: En lista med gemensamma element\n",
    "    \"\"\"\n",
    "    \n",
    "    return list(set(list1) & set(list2))\n",
    "\n",
    "\n",
    "list1 = [1, 2, 3, 4, 5]\n",
    "list2 = [4, 5, 6, 7, 8]\n",
    "print(common_elements_set(list1, list2))  # Output: [4, 5]"
   ]
  },
  {
   "cell_type": "markdown",
   "id": "1e580e81",
   "metadata": {},
   "source": [
    "## 8. Stork och barnafödsel – Stämmer påståendet? Använd begreppet kausalitet i ditt svar."
   ]
  },
  {
   "cell_type": "markdown",
   "id": "f328b9e5",
   "metadata": {},
   "source": [
    "Om vi enbart kollar på grafen så ser vi en positiv korrelation mellan storkfödsel och barnafödsel. Men korrelation betyder nödvändigtvis inte att det innebär kausalitet. \n",
    "\n",
    "Kausalitet betyder orsak-veteran-samband, där en variabel påverkar en annan. Men i det här fallet är de troligare att båda variablerna påverkas av en tredje bakomliggande faktor. Den här grafen visar att det är viktigt att inte dra kausala slutsatser endast baserat på korrelationsdata. "
   ]
  },
  {
   "cell_type": "markdown",
   "id": "1ff419ec",
   "metadata": {},
   "source": [
    "## 9. Kim påstår att medelvärdet är ett bättre mått än medianvärdet. Håller du med?"
   ]
  },
  {
   "cell_type": "markdown",
   "id": "a95fcd1a",
   "metadata": {},
   "source": [
    "Jag tycker inte att något är bättre än det andra. Jag tycker det beror helt på vilken typ av data man ska analyserar. Skulle man till exempel mäta inkomstfördelningen i ett land så är medianvärdet att föredra som mätverktyg, då extremt rika skulle dra upp medelvärdet i landet. \n",
    "\n",
    "Mitt svar är då nej, jag tycker inte att medelvärde är ett bättre mått. "
   ]
  },
  {
   "cell_type": "markdown",
   "id": "76018bc3",
   "metadata": {},
   "source": [
    "## 10. Vad används cirkeldiagram för? Ge ett exempel på hur Spotify (eller ett annat företag) kan använda det."
   ]
  },
  {
   "cell_type": "markdown",
   "id": "64fc8377",
   "metadata": {},
   "source": [
    "Ett cirkeldiagram används för att fördelningar av andelar eller procent visuellt. På englelska så är termen pie charts, vilket förklarar tydligare. Man delar in en tårta i olika andelar beroende på statistik. Det är att föredra när man utgår från 100%. \n",
    "\n",
    "Spotify kan använda det för att se hur procentandelen på vilken ålder en viss artist lyssnarskara har. Även kunna erbjuda kunden ett underlag för hur mycket av din lyssing är på Pop, Rock, Hip-hop & RnB"
   ]
  },
  {
   "cell_type": "markdown",
   "id": "830bafca",
   "metadata": {},
   "source": [
    "## 11. Vad används linjediagram för? Ge ett exempel på hur Spotify (eller ett annat företag) kan använda det."
   ]
  },
  {
   "cell_type": "markdown",
   "id": "fbe43f02",
   "metadata": {},
   "source": [
    "Linjediagram används används ofta för att visa förändringar över tid. Så som trender, mönster vid olika tidpunkter. \n",
    "\n",
    "Om vi ska fortsätta med Spotify, så kan det vara antalet lyssningar per dag under en månad för artister eller kunder. Samt hur många minuter per sag man lyssnar. \n",
    "\n",
    "Inom dagligvaruhadeln använder man sig gärna av den här metoden, för att veta antalet kunder per dag, antaler poster/kund. för att kunna maximera sin vinst. "
   ]
  },
  {
   "cell_type": "markdown",
   "id": "0123f445",
   "metadata": {},
   "source": [
    "## 12. Vad används lådagram (boxplots) för?"
   ]
  },
  {
   "cell_type": "markdown",
   "id": "9f6f7ec8",
   "metadata": {},
   "source": [
    "Boxplots används för att kunna visualisera avvikelser och spridning på datan som man samlat in. Man får en median och sen får man se spannet på det lägsta och högsta värdet i datan också. Det kan underlätta i analyser där man vill hitta data som sticker ut från snittet. "
   ]
  },
  {
   "cell_type": "markdown",
   "id": "5f78a038",
   "metadata": {},
   "source": [
    "# ✅ Självutvärdering"
   ]
  },
  {
   "cell_type": "markdown",
   "id": "6efcfa98",
   "metadata": {},
   "source": [
    "- **Vad har varit roligast?**\n",
    "- **Vilket betyg anser du att du ska ha och varför?**\n",
    "- **Vad har varit mest utmanande och hur har du hanterat det?**"
   ]
  },
  {
   "cell_type": "markdown",
   "id": "e84b0f55",
   "metadata": {},
   "source": [
    "1. Det roligaste har varit att analysera datan från diamnaterna. Det finns verkligen hur mycket detaljer som helst man kan gräva i. \n",
    "\n",
    "2. Jag tycker det är svårt att betygsätta mig själv, men jobbaet som jag har lagt ner tycker jag att jag förtjänar ett VG i kursen, där jag vart delaktig på varje lektion och gjort alla uppgifter längs vägen. Tycker även min prestation på del 2 i diamant analysen bör ge mig ett VG. Även om jag kanske hade för mycket info i streamlit applikationen.\n",
    "\n",
    "3. Det mest utmanade i arbetet har varit att veta vilken typ av data man ska representera i sin Streamlit applikation. För att all data är inte intressant, och man vill skapa en tydlig och konsistent story telling. Jag har hanterat det på ett sätt som jag tycker är obligatriskt i en utbilildning som man själv har valt att gå, genom att lägga ner tid och lära sig av det man inte kan. Läsa dokumentation och ta del av info och våga fråga Linus saker som man inte kan. Hur ska man annars lära sig?  "
   ]
  }
 ],
 "metadata": {
  "kernelspec": {
   "display_name": ".venv",
   "language": "python",
   "name": "python3"
  },
  "language_info": {
   "codemirror_mode": {
    "name": "ipython",
    "version": 3
   },
   "file_extension": ".py",
   "mimetype": "text/x-python",
   "name": "python",
   "nbconvert_exporter": "python",
   "pygments_lexer": "ipython3",
   "version": "3.13.3"
  }
 },
 "nbformat": 4,
 "nbformat_minor": 5
}
